{
  "nbformat": 4,
  "nbformat_minor": 0,
  "metadata": {
    "colab": {
      "name": "Google_App_Review_Classification_Using_Weighted-Class-Based-Tfidf.ipynb",
      "provenance": [],
      "authorship_tag": "ABX9TyN5M+4OVaoc+iZBN7n9MKNr",
      "include_colab_link": true
    },
    "kernelspec": {
      "name": "python3",
      "display_name": "Python 3"
    },
    "language_info": {
      "name": "python"
    }
  },
  "cells": [
    {
      "cell_type": "markdown",
      "metadata": {
        "id": "view-in-github",
        "colab_type": "text"
      },
      "source": [
        "<a href=\"https://colab.research.google.com/github/plaban1981/TOPIC_Modeling_NLP/blob/main/Google_App_Review_Classification_Using_Weighted_Class_Based_Tfidf.ipynb\" target=\"_parent\"><img src=\"https://colab.research.google.com/assets/colab-badge.svg\" alt=\"Open In Colab\"/></a>"
      ]
    },
    {
      "cell_type": "markdown",
      "source": [
        "## Data Exploration\n",
        "We'll load the Google Play app reviews dataset:"
      ],
      "metadata": {
        "id": "9djjBQys9G2R"
      }
    },
    {
      "cell_type": "markdown",
      "source": [
        "\n",
        "## Hypothesis : \n",
        "\n",
        "            In imbalanced class scenarios, when we use normal tfidf or countvect majority class words takes preference.\n",
        "            Since this class overpowers all other classes, the words associated with the majority class are majorly choosen in the vocab. \n",
        "            So the words associated with minority classes are not present in the vocab and that hinders the model's\n",
        "            ability to classify examples belonging to other classes.\n",
        "             \n"
      ],
      "metadata": {
        "id": "IpmrYFnO-CuS"
      }
    },
    {
      "cell_type": "code",
      "execution_count": 1,
      "metadata": {
        "colab": {
          "base_uri": "https://localhost:8080/"
        },
        "id": "tMPvWeBm838R",
        "outputId": "211f2a99-a90f-45c5-e273-11c7ccdfd5c1"
      },
      "outputs": [
        {
          "output_type": "stream",
          "name": "stdout",
          "text": [
            "Downloading...\n",
            "From: https://drive.google.com/uc?id=1S6qMioqPJjyBLpLVz4gmRTnJHnjitnuV\n",
            "To: /content/apps.csv\n",
            "100% 134k/134k [00:00<00:00, 47.3MB/s]\n",
            "Downloading...\n",
            "From: https://drive.google.com/uc?id=1zdmewp7ayS4js4VtrJEHzAheSW-5NBZv\n",
            "To: /content/reviews.csv\n",
            "100% 7.17M/7.17M [00:00<00:00, 43.8MB/s]\n"
          ]
        }
      ],
      "source": [
        "!gdown --id 1S6qMioqPJjyBLpLVz4gmRTnJHnjitnuV\n",
        "!gdown --id 1zdmewp7ayS4js4VtrJEHzAheSW-5NBZv"
      ]
    },
    {
      "cell_type": "code",
      "source": [
        "!pip install -q texthero"
      ],
      "metadata": {
        "colab": {
          "base_uri": "https://localhost:8080/"
        },
        "id": "NIposzLB9eiT",
        "outputId": "bcd63ac2-beb5-42b7-fbeb-a5409a229017"
      },
      "execution_count": 3,
      "outputs": [
        {
          "output_type": "stream",
          "name": "stdout",
          "text": [
            "\u001b[?25l\r\u001b[K     |▏                               | 10 kB 27.1 MB/s eta 0:00:01\r\u001b[K     |▍                               | 20 kB 36.7 MB/s eta 0:00:01\r\u001b[K     |▋                               | 30 kB 44.6 MB/s eta 0:00:01\r\u001b[K     |▉                               | 40 kB 13.8 MB/s eta 0:00:01\r\u001b[K     |█                               | 51 kB 15.9 MB/s eta 0:00:01\r\u001b[K     |█▎                              | 61 kB 18.4 MB/s eta 0:00:01\r\u001b[K     |█▌                              | 71 kB 20.9 MB/s eta 0:00:01\r\u001b[K     |█▊                              | 81 kB 15.6 MB/s eta 0:00:01\r\u001b[K     |██                              | 92 kB 16.8 MB/s eta 0:00:01\r\u001b[K     |██▏                             | 102 kB 18.4 MB/s eta 0:00:01\r\u001b[K     |██▍                             | 112 kB 18.4 MB/s eta 0:00:01\r\u001b[K     |██▋                             | 122 kB 18.4 MB/s eta 0:00:01\r\u001b[K     |██▉                             | 133 kB 18.4 MB/s eta 0:00:01\r\u001b[K     |███                             | 143 kB 18.4 MB/s eta 0:00:01\r\u001b[K     |███▎                            | 153 kB 18.4 MB/s eta 0:00:01\r\u001b[K     |███▌                            | 163 kB 18.4 MB/s eta 0:00:01\r\u001b[K     |███▊                            | 174 kB 18.4 MB/s eta 0:00:01\r\u001b[K     |████                            | 184 kB 18.4 MB/s eta 0:00:01\r\u001b[K     |████▏                           | 194 kB 18.4 MB/s eta 0:00:01\r\u001b[K     |████▍                           | 204 kB 18.4 MB/s eta 0:00:01\r\u001b[K     |████▋                           | 215 kB 18.4 MB/s eta 0:00:01\r\u001b[K     |████▉                           | 225 kB 18.4 MB/s eta 0:00:01\r\u001b[K     |█████                           | 235 kB 18.4 MB/s eta 0:00:01\r\u001b[K     |█████▎                          | 245 kB 18.4 MB/s eta 0:00:01\r\u001b[K     |█████▌                          | 256 kB 18.4 MB/s eta 0:00:01\r\u001b[K     |█████▊                          | 266 kB 18.4 MB/s eta 0:00:01\r\u001b[K     |██████                          | 276 kB 18.4 MB/s eta 0:00:01\r\u001b[K     |██████▏                         | 286 kB 18.4 MB/s eta 0:00:01\r\u001b[K     |██████▍                         | 296 kB 18.4 MB/s eta 0:00:01\r\u001b[K     |██████▋                         | 307 kB 18.4 MB/s eta 0:00:01\r\u001b[K     |██████▉                         | 317 kB 18.4 MB/s eta 0:00:01\r\u001b[K     |███████                         | 327 kB 18.4 MB/s eta 0:00:01\r\u001b[K     |███████▎                        | 337 kB 18.4 MB/s eta 0:00:01\r\u001b[K     |███████▌                        | 348 kB 18.4 MB/s eta 0:00:01\r\u001b[K     |███████▊                        | 358 kB 18.4 MB/s eta 0:00:01\r\u001b[K     |████████                        | 368 kB 18.4 MB/s eta 0:00:01\r\u001b[K     |████████▏                       | 378 kB 18.4 MB/s eta 0:00:01\r\u001b[K     |████████▍                       | 389 kB 18.4 MB/s eta 0:00:01\r\u001b[K     |████████▋                       | 399 kB 18.4 MB/s eta 0:00:01\r\u001b[K     |████████▊                       | 409 kB 18.4 MB/s eta 0:00:01\r\u001b[K     |█████████                       | 419 kB 18.4 MB/s eta 0:00:01\r\u001b[K     |█████████▏                      | 430 kB 18.4 MB/s eta 0:00:01\r\u001b[K     |█████████▍                      | 440 kB 18.4 MB/s eta 0:00:01\r\u001b[K     |█████████▋                      | 450 kB 18.4 MB/s eta 0:00:01\r\u001b[K     |█████████▉                      | 460 kB 18.4 MB/s eta 0:00:01\r\u001b[K     |██████████                      | 471 kB 18.4 MB/s eta 0:00:01\r\u001b[K     |██████████▎                     | 481 kB 18.4 MB/s eta 0:00:01\r\u001b[K     |██████████▌                     | 491 kB 18.4 MB/s eta 0:00:01\r\u001b[K     |██████████▊                     | 501 kB 18.4 MB/s eta 0:00:01\r\u001b[K     |███████████                     | 512 kB 18.4 MB/s eta 0:00:01\r\u001b[K     |███████████▏                    | 522 kB 18.4 MB/s eta 0:00:01\r\u001b[K     |███████████▍                    | 532 kB 18.4 MB/s eta 0:00:01\r\u001b[K     |███████████▋                    | 542 kB 18.4 MB/s eta 0:00:01\r\u001b[K     |███████████▉                    | 552 kB 18.4 MB/s eta 0:00:01\r\u001b[K     |████████████                    | 563 kB 18.4 MB/s eta 0:00:01\r\u001b[K     |████████████▎                   | 573 kB 18.4 MB/s eta 0:00:01\r\u001b[K     |████████████▌                   | 583 kB 18.4 MB/s eta 0:00:01\r\u001b[K     |████████████▊                   | 593 kB 18.4 MB/s eta 0:00:01\r\u001b[K     |█████████████                   | 604 kB 18.4 MB/s eta 0:00:01\r\u001b[K     |█████████████▏                  | 614 kB 18.4 MB/s eta 0:00:01\r\u001b[K     |█████████████▍                  | 624 kB 18.4 MB/s eta 0:00:01\r\u001b[K     |█████████████▋                  | 634 kB 18.4 MB/s eta 0:00:01\r\u001b[K     |█████████████▉                  | 645 kB 18.4 MB/s eta 0:00:01\r\u001b[K     |██████████████                  | 655 kB 18.4 MB/s eta 0:00:01\r\u001b[K     |██████████████▎                 | 665 kB 18.4 MB/s eta 0:00:01\r\u001b[K     |██████████████▌                 | 675 kB 18.4 MB/s eta 0:00:01\r\u001b[K     |██████████████▊                 | 686 kB 18.4 MB/s eta 0:00:01\r\u001b[K     |███████████████                 | 696 kB 18.4 MB/s eta 0:00:01\r\u001b[K     |███████████████▏                | 706 kB 18.4 MB/s eta 0:00:01\r\u001b[K     |███████████████▍                | 716 kB 18.4 MB/s eta 0:00:01\r\u001b[K     |███████████████▋                | 727 kB 18.4 MB/s eta 0:00:01\r\u001b[K     |███████████████▉                | 737 kB 18.4 MB/s eta 0:00:01\r\u001b[K     |████████████████                | 747 kB 18.4 MB/s eta 0:00:01\r\u001b[K     |████████████████▎               | 757 kB 18.4 MB/s eta 0:00:01\r\u001b[K     |████████████████▌               | 768 kB 18.4 MB/s eta 0:00:01\r\u001b[K     |████████████████▊               | 778 kB 18.4 MB/s eta 0:00:01\r\u001b[K     |█████████████████               | 788 kB 18.4 MB/s eta 0:00:01\r\u001b[K     |█████████████████▏              | 798 kB 18.4 MB/s eta 0:00:01\r\u001b[K     |█████████████████▍              | 808 kB 18.4 MB/s eta 0:00:01\r\u001b[K     |█████████████████▌              | 819 kB 18.4 MB/s eta 0:00:01\r\u001b[K     |█████████████████▊              | 829 kB 18.4 MB/s eta 0:00:01\r\u001b[K     |██████████████████              | 839 kB 18.4 MB/s eta 0:00:01\r\u001b[K     |██████████████████▏             | 849 kB 18.4 MB/s eta 0:00:01\r\u001b[K     |██████████████████▍             | 860 kB 18.4 MB/s eta 0:00:01\r\u001b[K     |██████████████████▋             | 870 kB 18.4 MB/s eta 0:00:01\r\u001b[K     |██████████████████▉             | 880 kB 18.4 MB/s eta 0:00:01\r\u001b[K     |███████████████████             | 890 kB 18.4 MB/s eta 0:00:01\r\u001b[K     |███████████████████▎            | 901 kB 18.4 MB/s eta 0:00:01\r\u001b[K     |███████████████████▌            | 911 kB 18.4 MB/s eta 0:00:01\r\u001b[K     |███████████████████▊            | 921 kB 18.4 MB/s eta 0:00:01\r\u001b[K     |████████████████████            | 931 kB 18.4 MB/s eta 0:00:01\r\u001b[K     |████████████████████▏           | 942 kB 18.4 MB/s eta 0:00:01\r\u001b[K     |████████████████████▍           | 952 kB 18.4 MB/s eta 0:00:01\r\u001b[K     |████████████████████▋           | 962 kB 18.4 MB/s eta 0:00:01\r\u001b[K     |████████████████████▉           | 972 kB 18.4 MB/s eta 0:00:01\r\u001b[K     |█████████████████████           | 983 kB 18.4 MB/s eta 0:00:01\r\u001b[K     |█████████████████████▎          | 993 kB 18.4 MB/s eta 0:00:01\r\u001b[K     |█████████████████████▌          | 1.0 MB 18.4 MB/s eta 0:00:01\r\u001b[K     |█████████████████████▊          | 1.0 MB 18.4 MB/s eta 0:00:01\r\u001b[K     |██████████████████████          | 1.0 MB 18.4 MB/s eta 0:00:01\r\u001b[K     |██████████████████████▏         | 1.0 MB 18.4 MB/s eta 0:00:01\r\u001b[K     |██████████████████████▍         | 1.0 MB 18.4 MB/s eta 0:00:01\r\u001b[K     |██████████████████████▋         | 1.1 MB 18.4 MB/s eta 0:00:01\r\u001b[K     |██████████████████████▉         | 1.1 MB 18.4 MB/s eta 0:00:01\r\u001b[K     |███████████████████████         | 1.1 MB 18.4 MB/s eta 0:00:01\r\u001b[K     |███████████████████████▎        | 1.1 MB 18.4 MB/s eta 0:00:01\r\u001b[K     |███████████████████████▌        | 1.1 MB 18.4 MB/s eta 0:00:01\r\u001b[K     |███████████████████████▊        | 1.1 MB 18.4 MB/s eta 0:00:01\r\u001b[K     |████████████████████████        | 1.1 MB 18.4 MB/s eta 0:00:01\r\u001b[K     |████████████████████████▏       | 1.1 MB 18.4 MB/s eta 0:00:01\r\u001b[K     |████████████████████████▍       | 1.1 MB 18.4 MB/s eta 0:00:01\r\u001b[K     |████████████████████████▋       | 1.1 MB 18.4 MB/s eta 0:00:01\r\u001b[K     |████████████████████████▉       | 1.2 MB 18.4 MB/s eta 0:00:01\r\u001b[K     |█████████████████████████       | 1.2 MB 18.4 MB/s eta 0:00:01\r\u001b[K     |█████████████████████████▎      | 1.2 MB 18.4 MB/s eta 0:00:01\r\u001b[K     |█████████████████████████▌      | 1.2 MB 18.4 MB/s eta 0:00:01\r\u001b[K     |█████████████████████████▊      | 1.2 MB 18.4 MB/s eta 0:00:01\r\u001b[K     |██████████████████████████      | 1.2 MB 18.4 MB/s eta 0:00:01\r\u001b[K     |██████████████████████████▏     | 1.2 MB 18.4 MB/s eta 0:00:01\r\u001b[K     |██████████████████████████▎     | 1.2 MB 18.4 MB/s eta 0:00:01\r\u001b[K     |██████████████████████████▌     | 1.2 MB 18.4 MB/s eta 0:00:01\r\u001b[K     |██████████████████████████▊     | 1.2 MB 18.4 MB/s eta 0:00:01\r\u001b[K     |███████████████████████████     | 1.3 MB 18.4 MB/s eta 0:00:01\r\u001b[K     |███████████████████████████▏    | 1.3 MB 18.4 MB/s eta 0:00:01\r\u001b[K     |███████████████████████████▍    | 1.3 MB 18.4 MB/s eta 0:00:01\r\u001b[K     |███████████████████████████▋    | 1.3 MB 18.4 MB/s eta 0:00:01\r\u001b[K     |███████████████████████████▉    | 1.3 MB 18.4 MB/s eta 0:00:01\r\u001b[K     |████████████████████████████    | 1.3 MB 18.4 MB/s eta 0:00:01\r\u001b[K     |████████████████████████████▎   | 1.3 MB 18.4 MB/s eta 0:00:01\r\u001b[K     |████████████████████████████▌   | 1.3 MB 18.4 MB/s eta 0:00:01\r\u001b[K     |████████████████████████████▊   | 1.3 MB 18.4 MB/s eta 0:00:01\r\u001b[K     |█████████████████████████████   | 1.4 MB 18.4 MB/s eta 0:00:01\r\u001b[K     |█████████████████████████████▏  | 1.4 MB 18.4 MB/s eta 0:00:01\r\u001b[K     |█████████████████████████████▍  | 1.4 MB 18.4 MB/s eta 0:00:01\r\u001b[K     |█████████████████████████████▋  | 1.4 MB 18.4 MB/s eta 0:00:01\r\u001b[K     |█████████████████████████████▉  | 1.4 MB 18.4 MB/s eta 0:00:01\r\u001b[K     |██████████████████████████████  | 1.4 MB 18.4 MB/s eta 0:00:01\r\u001b[K     |██████████████████████████████▎ | 1.4 MB 18.4 MB/s eta 0:00:01\r\u001b[K     |██████████████████████████████▌ | 1.4 MB 18.4 MB/s eta 0:00:01\r\u001b[K     |██████████████████████████████▊ | 1.4 MB 18.4 MB/s eta 0:00:01\r\u001b[K     |███████████████████████████████ | 1.4 MB 18.4 MB/s eta 0:00:01\r\u001b[K     |███████████████████████████████▏| 1.5 MB 18.4 MB/s eta 0:00:01\r\u001b[K     |███████████████████████████████▍| 1.5 MB 18.4 MB/s eta 0:00:01\r\u001b[K     |███████████████████████████████▋| 1.5 MB 18.4 MB/s eta 0:00:01\r\u001b[K     |███████████████████████████████▉| 1.5 MB 18.4 MB/s eta 0:00:01\r\u001b[K     |████████████████████████████████| 1.5 MB 18.4 MB/s \n",
            "\u001b[K     |████████████████████████████████| 235 kB 97.1 MB/s \n",
            "\u001b[K     |████████████████████████████████| 749 kB 88.2 MB/s \n",
            "\u001b[?25h"
          ]
        }
      ]
    },
    {
      "cell_type": "code",
      "source": [
        "import pandas as pd\n",
        "import numpy as np\n",
        "import matplotlib.pyplot as plt\n",
        "import seaborn as sns\n",
        "#\n",
        "import texthero as hero\n",
        "#\n",
        "from nltk.corpus import stopwords\n",
        "from sklearn.feature_extraction.text import TfidfVectorizer, CountVectorizer\n",
        "#\n",
        "from sklearn.model_selection import train_test_split\n",
        "from sklearn.metrics import *\n",
        "from sklearn.linear_model import LogisticRegression\n",
        "#\n",
        "import warnings\n",
        "warnings.filterwarnings('ignore')\n",
        "#\n",
        "%matplotlib inline"
      ],
      "metadata": {
        "id": "u6mzplQK9n8u"
      },
      "execution_count": 41,
      "outputs": []
    },
    {
      "cell_type": "code",
      "source": [
        "df = pd.read_csv(\"reviews.csv\")\n",
        "df.head()"
      ],
      "metadata": {
        "colab": {
          "base_uri": "https://localhost:8080/",
          "height": 476
        },
        "id": "httEZt639chg",
        "outputId": "6b86f0ad-b6ad-4086-ecd0-b8619bd53970"
      },
      "execution_count": 5,
      "outputs": [
        {
          "output_type": "execute_result",
          "data": {
            "text/html": [
              "\n",
              "  <div id=\"df-6337eecd-a1af-46a9-bee3-42abdfb49a8c\">\n",
              "    <div class=\"colab-df-container\">\n",
              "      <div>\n",
              "<style scoped>\n",
              "    .dataframe tbody tr th:only-of-type {\n",
              "        vertical-align: middle;\n",
              "    }\n",
              "\n",
              "    .dataframe tbody tr th {\n",
              "        vertical-align: top;\n",
              "    }\n",
              "\n",
              "    .dataframe thead th {\n",
              "        text-align: right;\n",
              "    }\n",
              "</style>\n",
              "<table border=\"1\" class=\"dataframe\">\n",
              "  <thead>\n",
              "    <tr style=\"text-align: right;\">\n",
              "      <th></th>\n",
              "      <th>userName</th>\n",
              "      <th>userImage</th>\n",
              "      <th>content</th>\n",
              "      <th>score</th>\n",
              "      <th>thumbsUpCount</th>\n",
              "      <th>reviewCreatedVersion</th>\n",
              "      <th>at</th>\n",
              "      <th>replyContent</th>\n",
              "      <th>repliedAt</th>\n",
              "      <th>sortOrder</th>\n",
              "      <th>appId</th>\n",
              "    </tr>\n",
              "  </thead>\n",
              "  <tbody>\n",
              "    <tr>\n",
              "      <th>0</th>\n",
              "      <td>Andrew Thomas</td>\n",
              "      <td>https://lh3.googleusercontent.com/a-/AOh14GiHd...</td>\n",
              "      <td>Update: After getting a response from the deve...</td>\n",
              "      <td>1</td>\n",
              "      <td>21</td>\n",
              "      <td>4.17.0.3</td>\n",
              "      <td>2020-04-05 22:25:57</td>\n",
              "      <td>According to our TOS, and the term you have ag...</td>\n",
              "      <td>2020-04-05 15:10:24</td>\n",
              "      <td>most_relevant</td>\n",
              "      <td>com.anydo</td>\n",
              "    </tr>\n",
              "    <tr>\n",
              "      <th>1</th>\n",
              "      <td>Craig Haines</td>\n",
              "      <td>https://lh3.googleusercontent.com/-hoe0kwSJgPQ...</td>\n",
              "      <td>Used it for a fair amount of time without any ...</td>\n",
              "      <td>1</td>\n",
              "      <td>11</td>\n",
              "      <td>4.17.0.3</td>\n",
              "      <td>2020-04-04 13:40:01</td>\n",
              "      <td>It sounds like you logged in with a different ...</td>\n",
              "      <td>2020-04-05 15:11:35</td>\n",
              "      <td>most_relevant</td>\n",
              "      <td>com.anydo</td>\n",
              "    </tr>\n",
              "    <tr>\n",
              "      <th>2</th>\n",
              "      <td>steven adkins</td>\n",
              "      <td>https://lh3.googleusercontent.com/a-/AOh14GiXw...</td>\n",
              "      <td>Your app sucks now!!!!! Used to be good but no...</td>\n",
              "      <td>1</td>\n",
              "      <td>17</td>\n",
              "      <td>4.17.0.3</td>\n",
              "      <td>2020-04-01 16:18:13</td>\n",
              "      <td>This sounds odd! We are not aware of any issue...</td>\n",
              "      <td>2020-04-02 16:05:56</td>\n",
              "      <td>most_relevant</td>\n",
              "      <td>com.anydo</td>\n",
              "    </tr>\n",
              "    <tr>\n",
              "      <th>3</th>\n",
              "      <td>Lars Panzerbjørn</td>\n",
              "      <td>https://lh3.googleusercontent.com/a-/AOh14Gg-h...</td>\n",
              "      <td>It seems OK, but very basic. Recurring tasks n...</td>\n",
              "      <td>1</td>\n",
              "      <td>192</td>\n",
              "      <td>4.17.0.2</td>\n",
              "      <td>2020-03-12 08:17:34</td>\n",
              "      <td>We do offer this option as part of the Advance...</td>\n",
              "      <td>2020-03-15 06:20:13</td>\n",
              "      <td>most_relevant</td>\n",
              "      <td>com.anydo</td>\n",
              "    </tr>\n",
              "    <tr>\n",
              "      <th>4</th>\n",
              "      <td>Scott Prewitt</td>\n",
              "      <td>https://lh3.googleusercontent.com/-K-X1-YsVd6U...</td>\n",
              "      <td>Absolutely worthless. This app runs a prohibit...</td>\n",
              "      <td>1</td>\n",
              "      <td>42</td>\n",
              "      <td>4.17.0.2</td>\n",
              "      <td>2020-03-14 17:41:01</td>\n",
              "      <td>We're sorry you feel this way! 90% of the app ...</td>\n",
              "      <td>2020-03-15 23:45:51</td>\n",
              "      <td>most_relevant</td>\n",
              "      <td>com.anydo</td>\n",
              "    </tr>\n",
              "  </tbody>\n",
              "</table>\n",
              "</div>\n",
              "      <button class=\"colab-df-convert\" onclick=\"convertToInteractive('df-6337eecd-a1af-46a9-bee3-42abdfb49a8c')\"\n",
              "              title=\"Convert this dataframe to an interactive table.\"\n",
              "              style=\"display:none;\">\n",
              "        \n",
              "  <svg xmlns=\"http://www.w3.org/2000/svg\" height=\"24px\"viewBox=\"0 0 24 24\"\n",
              "       width=\"24px\">\n",
              "    <path d=\"M0 0h24v24H0V0z\" fill=\"none\"/>\n",
              "    <path d=\"M18.56 5.44l.94 2.06.94-2.06 2.06-.94-2.06-.94-.94-2.06-.94 2.06-2.06.94zm-11 1L8.5 8.5l.94-2.06 2.06-.94-2.06-.94L8.5 2.5l-.94 2.06-2.06.94zm10 10l.94 2.06.94-2.06 2.06-.94-2.06-.94-.94-2.06-.94 2.06-2.06.94z\"/><path d=\"M17.41 7.96l-1.37-1.37c-.4-.4-.92-.59-1.43-.59-.52 0-1.04.2-1.43.59L10.3 9.45l-7.72 7.72c-.78.78-.78 2.05 0 2.83L4 21.41c.39.39.9.59 1.41.59.51 0 1.02-.2 1.41-.59l7.78-7.78 2.81-2.81c.8-.78.8-2.07 0-2.86zM5.41 20L4 18.59l7.72-7.72 1.47 1.35L5.41 20z\"/>\n",
              "  </svg>\n",
              "      </button>\n",
              "      \n",
              "  <style>\n",
              "    .colab-df-container {\n",
              "      display:flex;\n",
              "      flex-wrap:wrap;\n",
              "      gap: 12px;\n",
              "    }\n",
              "\n",
              "    .colab-df-convert {\n",
              "      background-color: #E8F0FE;\n",
              "      border: none;\n",
              "      border-radius: 50%;\n",
              "      cursor: pointer;\n",
              "      display: none;\n",
              "      fill: #1967D2;\n",
              "      height: 32px;\n",
              "      padding: 0 0 0 0;\n",
              "      width: 32px;\n",
              "    }\n",
              "\n",
              "    .colab-df-convert:hover {\n",
              "      background-color: #E2EBFA;\n",
              "      box-shadow: 0px 1px 2px rgba(60, 64, 67, 0.3), 0px 1px 3px 1px rgba(60, 64, 67, 0.15);\n",
              "      fill: #174EA6;\n",
              "    }\n",
              "\n",
              "    [theme=dark] .colab-df-convert {\n",
              "      background-color: #3B4455;\n",
              "      fill: #D2E3FC;\n",
              "    }\n",
              "\n",
              "    [theme=dark] .colab-df-convert:hover {\n",
              "      background-color: #434B5C;\n",
              "      box-shadow: 0px 1px 3px 1px rgba(0, 0, 0, 0.15);\n",
              "      filter: drop-shadow(0px 1px 2px rgba(0, 0, 0, 0.3));\n",
              "      fill: #FFFFFF;\n",
              "    }\n",
              "  </style>\n",
              "\n",
              "      <script>\n",
              "        const buttonEl =\n",
              "          document.querySelector('#df-6337eecd-a1af-46a9-bee3-42abdfb49a8c button.colab-df-convert');\n",
              "        buttonEl.style.display =\n",
              "          google.colab.kernel.accessAllowed ? 'block' : 'none';\n",
              "\n",
              "        async function convertToInteractive(key) {\n",
              "          const element = document.querySelector('#df-6337eecd-a1af-46a9-bee3-42abdfb49a8c');\n",
              "          const dataTable =\n",
              "            await google.colab.kernel.invokeFunction('convertToInteractive',\n",
              "                                                     [key], {});\n",
              "          if (!dataTable) return;\n",
              "\n",
              "          const docLinkHtml = 'Like what you see? Visit the ' +\n",
              "            '<a target=\"_blank\" href=https://colab.research.google.com/notebooks/data_table.ipynb>data table notebook</a>'\n",
              "            + ' to learn more about interactive tables.';\n",
              "          element.innerHTML = '';\n",
              "          dataTable['output_type'] = 'display_data';\n",
              "          await google.colab.output.renderOutput(dataTable, element);\n",
              "          const docLink = document.createElement('div');\n",
              "          docLink.innerHTML = docLinkHtml;\n",
              "          element.appendChild(docLink);\n",
              "        }\n",
              "      </script>\n",
              "    </div>\n",
              "  </div>\n",
              "  "
            ],
            "text/plain": [
              "           userName  ...      appId\n",
              "0     Andrew Thomas  ...  com.anydo\n",
              "1      Craig Haines  ...  com.anydo\n",
              "2     steven adkins  ...  com.anydo\n",
              "3  Lars Panzerbjørn  ...  com.anydo\n",
              "4     Scott Prewitt  ...  com.anydo\n",
              "\n",
              "[5 rows x 11 columns]"
            ]
          },
          "metadata": {},
          "execution_count": 5
        }
      ]
    },
    {
      "cell_type": "markdown",
      "source": [
        "## Data description"
      ],
      "metadata": {
        "id": "HwKOQbNh_CtZ"
      }
    },
    {
      "cell_type": "code",
      "source": [
        "df.info()"
      ],
      "metadata": {
        "colab": {
          "base_uri": "https://localhost:8080/"
        },
        "id": "l4B1o9_p-1zi",
        "outputId": "0b6bfde2-e98c-4228-8716-fcb41d459929"
      },
      "execution_count": 6,
      "outputs": [
        {
          "output_type": "stream",
          "name": "stdout",
          "text": [
            "<class 'pandas.core.frame.DataFrame'>\n",
            "RangeIndex: 15746 entries, 0 to 15745\n",
            "Data columns (total 11 columns):\n",
            " #   Column                Non-Null Count  Dtype \n",
            "---  ------                --------------  ----- \n",
            " 0   userName              15746 non-null  object\n",
            " 1   userImage             15746 non-null  object\n",
            " 2   content               15746 non-null  object\n",
            " 3   score                 15746 non-null  int64 \n",
            " 4   thumbsUpCount         15746 non-null  int64 \n",
            " 5   reviewCreatedVersion  13533 non-null  object\n",
            " 6   at                    15746 non-null  object\n",
            " 7   replyContent          7367 non-null   object\n",
            " 8   repliedAt             7367 non-null   object\n",
            " 9   sortOrder             15746 non-null  object\n",
            " 10  appId                 15746 non-null  object\n",
            "dtypes: int64(2), object(9)\n",
            "memory usage: 1.3+ MB\n"
          ]
        }
      ]
    },
    {
      "cell_type": "markdown",
      "source": [
        "## Missing Values"
      ],
      "metadata": {
        "id": "swUI3vRj_Ft4"
      }
    },
    {
      "cell_type": "code",
      "source": [
        "df.isnull().sum()[df.isnull().sum() > 0]"
      ],
      "metadata": {
        "colab": {
          "base_uri": "https://localhost:8080/"
        },
        "id": "lAjDRzte-3tc",
        "outputId": "ec3834bf-9a7b-4b97-b7b6-c2452c0cd9c5"
      },
      "execution_count": 7,
      "outputs": [
        {
          "output_type": "execute_result",
          "data": {
            "text/plain": [
              "reviewCreatedVersion    2213\n",
              "replyContent            8379\n",
              "repliedAt               8379\n",
              "dtype: int64"
            ]
          },
          "metadata": {},
          "execution_count": 7
        }
      ]
    },
    {
      "cell_type": "markdown",
      "source": [
        "* no missing values in the score and review texts!"
      ],
      "metadata": {
        "id": "-v-w9D8z_P3A"
      }
    },
    {
      "cell_type": "markdown",
      "source": [
        "## Check for Class Imbalance"
      ],
      "metadata": {
        "id": "FZouqkF0_Q71"
      }
    },
    {
      "cell_type": "code",
      "source": [
        "sns.countplot(x='score',data=df)\n",
        "plt.xlabel('review score')\n",
        "plt.show()"
      ],
      "metadata": {
        "colab": {
          "base_uri": "https://localhost:8080/",
          "height": 279
        },
        "id": "2N1gLtT5_TSq",
        "outputId": "f9f8f8af-80d3-4af9-afc6-1109cc0ffbf0"
      },
      "execution_count": 9,
      "outputs": [
        {
          "output_type": "display_data",
          "data": {
            "image/png": "[encoded data removed]",
            "text/plain": [
              "<Figure size 432x288 with 1 Axes>"
            ]
          },
          "metadata": {
            "needs_background": "light"
          }
        }
      ]
    },
    {
      "cell_type": "markdown",
      "source": [
        "* Data is imbalanced We're going to convert the dataset into negative(0),  positive sentiment(1):"
      ],
      "metadata": {
        "id": "LJkIvTSf_mzm"
      }
    },
    {
      "cell_type": "code",
      "source": [
        "def to_sentiment(rating):\n",
        "  rating = int(rating)\n",
        "  if rating <= 2:\n",
        "    return 0\n",
        "  else: \n",
        "    return 1\n",
        "\n",
        "df['sentiment'] = df.score.apply(to_sentiment)"
      ],
      "metadata": {
        "id": "tVQzHbXVBP1t"
      },
      "execution_count": 10,
      "outputs": []
    },
    {
      "cell_type": "code",
      "source": [
        "sns.countplot(x='sentiment',data=df)\n",
        "plt.xlabel('sentiment review score')\n",
        "plt.show()"
      ],
      "metadata": {
        "colab": {
          "base_uri": "https://localhost:8080/",
          "height": 279
        },
        "id": "lUhMDCpJBV0e",
        "outputId": "1e00eaee-7a02-414b-f24f-1e6f907e0d69"
      },
      "execution_count": 13,
      "outputs": [
        {
          "output_type": "display_data",
          "data": {
            "image/png": "[encoded data removed]",
            "text/plain": [
              "<Figure size 432x288 with 1 Axes>"
            ]
          },
          "metadata": {
            "needs_background": "light"
          }
        }
      ]
    },
    {
      "cell_type": "code",
      "source": [
        "df.head()"
      ],
      "metadata": {
        "colab": {
          "base_uri": "https://localhost:8080/",
          "height": 614
        },
        "id": "L1HheGNMHIqm",
        "outputId": "3abc9e7a-aa33-4f2f-def1-eec26c6b914e"
      },
      "execution_count": 14,
      "outputs": [
        {
          "output_type": "execute_result",
          "data": {
            "text/html": [
              "\n",
              "  <div id=\"df-5de1d630-a37b-49cb-ac2f-bb88f814ed93\">\n",
              "    <div class=\"colab-df-container\">\n",
              "      <div>\n",
              "<style scoped>\n",
              "    .dataframe tbody tr th:only-of-type {\n",
              "        vertical-align: middle;\n",
              "    }\n",
              "\n",
              "    .dataframe tbody tr th {\n",
              "        vertical-align: top;\n",
              "    }\n",
              "\n",
              "    .dataframe thead th {\n",
              "        text-align: right;\n",
              "    }\n",
              "</style>\n",
              "<table border=\"1\" class=\"dataframe\">\n",
              "  <thead>\n",
              "    <tr style=\"text-align: right;\">\n",
              "      <th></th>\n",
              "      <th>userName</th>\n",
              "      <th>userImage</th>\n",
              "      <th>content</th>\n",
              "      <th>score</th>\n",
              "      <th>thumbsUpCount</th>\n",
              "      <th>reviewCreatedVersion</th>\n",
              "      <th>at</th>\n",
              "      <th>replyContent</th>\n",
              "      <th>repliedAt</th>\n",
              "      <th>sortOrder</th>\n",
              "      <th>appId</th>\n",
              "      <th>sentiment</th>\n",
              "    </tr>\n",
              "  </thead>\n",
              "  <tbody>\n",
              "    <tr>\n",
              "      <th>0</th>\n",
              "      <td>Andrew Thomas</td>\n",
              "      <td>https://lh3.googleusercontent.com/a-/AOh14GiHd...</td>\n",
              "      <td>Update: After getting a response from the deve...</td>\n",
              "      <td>1</td>\n",
              "      <td>21</td>\n",
              "      <td>4.17.0.3</td>\n",
              "      <td>2020-04-05 22:25:57</td>\n",
              "      <td>According to our TOS, and the term you have ag...</td>\n",
              "      <td>2020-04-05 15:10:24</td>\n",
              "      <td>most_relevant</td>\n",
              "      <td>com.anydo</td>\n",
              "      <td>0</td>\n",
              "    </tr>\n",
              "    <tr>\n",
              "      <th>1</th>\n",
              "      <td>Craig Haines</td>\n",
              "      <td>https://lh3.googleusercontent.com/-hoe0kwSJgPQ...</td>\n",
              "      <td>Used it for a fair amount of time without any ...</td>\n",
              "      <td>1</td>\n",
              "      <td>11</td>\n",
              "      <td>4.17.0.3</td>\n",
              "      <td>2020-04-04 13:40:01</td>\n",
              "      <td>It sounds like you logged in with a different ...</td>\n",
              "      <td>2020-04-05 15:11:35</td>\n",
              "      <td>most_relevant</td>\n",
              "      <td>com.anydo</td>\n",
              "      <td>0</td>\n",
              "    </tr>\n",
              "    <tr>\n",
              "      <th>2</th>\n",
              "      <td>steven adkins</td>\n",
              "      <td>https://lh3.googleusercontent.com/a-/AOh14GiXw...</td>\n",
              "      <td>Your app sucks now!!!!! Used to be good but no...</td>\n",
              "      <td>1</td>\n",
              "      <td>17</td>\n",
              "      <td>4.17.0.3</td>\n",
              "      <td>2020-04-01 16:18:13</td>\n",
              "      <td>This sounds odd! We are not aware of any issue...</td>\n",
              "      <td>2020-04-02 16:05:56</td>\n",
              "      <td>most_relevant</td>\n",
              "      <td>com.anydo</td>\n",
              "      <td>0</td>\n",
              "    </tr>\n",
              "    <tr>\n",
              "      <th>3</th>\n",
              "      <td>Lars Panzerbjørn</td>\n",
              "      <td>https://lh3.googleusercontent.com/a-/AOh14Gg-h...</td>\n",
              "      <td>It seems OK, but very basic. Recurring tasks n...</td>\n",
              "      <td>1</td>\n",
              "      <td>192</td>\n",
              "      <td>4.17.0.2</td>\n",
              "      <td>2020-03-12 08:17:34</td>\n",
              "      <td>We do offer this option as part of the Advance...</td>\n",
              "      <td>2020-03-15 06:20:13</td>\n",
              "      <td>most_relevant</td>\n",
              "      <td>com.anydo</td>\n",
              "      <td>0</td>\n",
              "    </tr>\n",
              "    <tr>\n",
              "      <th>4</th>\n",
              "      <td>Scott Prewitt</td>\n",
              "      <td>https://lh3.googleusercontent.com/-K-X1-YsVd6U...</td>\n",
              "      <td>Absolutely worthless. This app runs a prohibit...</td>\n",
              "      <td>1</td>\n",
              "      <td>42</td>\n",
              "      <td>4.17.0.2</td>\n",
              "      <td>2020-03-14 17:41:01</td>\n",
              "      <td>We're sorry you feel this way! 90% of the app ...</td>\n",
              "      <td>2020-03-15 23:45:51</td>\n",
              "      <td>most_relevant</td>\n",
              "      <td>com.anydo</td>\n",
              "      <td>0</td>\n",
              "    </tr>\n",
              "  </tbody>\n",
              "</table>\n",
              "</div>\n",
              "      <button class=\"colab-df-convert\" onclick=\"convertToInteractive('df-5de1d630-a37b-49cb-ac2f-bb88f814ed93')\"\n",
              "              title=\"Convert this dataframe to an interactive table.\"\n",
              "              style=\"display:none;\">\n",
              "        \n",
              "  <svg xmlns=\"http://www.w3.org/2000/svg\" height=\"24px\"viewBox=\"0 0 24 24\"\n",
              "       width=\"24px\">\n",
              "    <path d=\"M0 0h24v24H0V0z\" fill=\"none\"/>\n",
              "    <path d=\"M18.56 5.44l.94 2.06.94-2.06 2.06-.94-2.06-.94-.94-2.06-.94 2.06-2.06.94zm-11 1L8.5 8.5l.94-2.06 2.06-.94-2.06-.94L8.5 2.5l-.94 2.06-2.06.94zm10 10l.94 2.06.94-2.06 2.06-.94-2.06-.94-.94-2.06-.94 2.06-2.06.94z\"/><path d=\"M17.41 7.96l-1.37-1.37c-.4-.4-.92-.59-1.43-.59-.52 0-1.04.2-1.43.59L10.3 9.45l-7.72 7.72c-.78.78-.78 2.05 0 2.83L4 21.41c.39.39.9.59 1.41.59.51 0 1.02-.2 1.41-.59l7.78-7.78 2.81-2.81c.8-.78.8-2.07 0-2.86zM5.41 20L4 18.59l7.72-7.72 1.47 1.35L5.41 20z\"/>\n",
              "  </svg>\n",
              "      </button>\n",
              "      \n",
              "  <style>\n",
              "    .colab-df-container {\n",
              "      display:flex;\n",
              "      flex-wrap:wrap;\n",
              "      gap: 12px;\n",
              "    }\n",
              "\n",
              "    .colab-df-convert {\n",
              "      background-color: #E8F0FE;\n",
              "      border: none;\n",
              "      border-radius: 50%;\n",
              "      cursor: pointer;\n",
              "      display: none;\n",
              "      fill: #1967D2;\n",
              "      height: 32px;\n",
              "      padding: 0 0 0 0;\n",
              "      width: 32px;\n",
              "    }\n",
              "\n",
              "    .colab-df-convert:hover {\n",
              "      background-color: #E2EBFA;\n",
              "      box-shadow: 0px 1px 2px rgba(60, 64, 67, 0.3), 0px 1px 3px 1px rgba(60, 64, 67, 0.15);\n",
              "      fill: #174EA6;\n",
              "    }\n",
              "\n",
              "    [theme=dark] .colab-df-convert {\n",
              "      background-color: #3B4455;\n",
              "      fill: #D2E3FC;\n",
              "    }\n",
              "\n",
              "    [theme=dark] .colab-df-convert:hover {\n",
              "      background-color: #434B5C;\n",
              "      box-shadow: 0px 1px 3px 1px rgba(0, 0, 0, 0.15);\n",
              "      filter: drop-shadow(0px 1px 2px rgba(0, 0, 0, 0.3));\n",
              "      fill: #FFFFFF;\n",
              "    }\n",
              "  </style>\n",
              "\n",
              "      <script>\n",
              "        const buttonEl =\n",
              "          document.querySelector('#df-5de1d630-a37b-49cb-ac2f-bb88f814ed93 button.colab-df-convert');\n",
              "        buttonEl.style.display =\n",
              "          google.colab.kernel.accessAllowed ? 'block' : 'none';\n",
              "\n",
              "        async function convertToInteractive(key) {\n",
              "          const element = document.querySelector('#df-5de1d630-a37b-49cb-ac2f-bb88f814ed93');\n",
              "          const dataTable =\n",
              "            await google.colab.kernel.invokeFunction('convertToInteractive',\n",
              "                                                     [key], {});\n",
              "          if (!dataTable) return;\n",
              "\n",
              "          const docLinkHtml = 'Like what you see? Visit the ' +\n",
              "            '<a target=\"_blank\" href=https://colab.research.google.com/notebooks/data_table.ipynb>data table notebook</a>'\n",
              "            + ' to learn more about interactive tables.';\n",
              "          element.innerHTML = '';\n",
              "          dataTable['output_type'] = 'display_data';\n",
              "          await google.colab.output.renderOutput(dataTable, element);\n",
              "          const docLink = document.createElement('div');\n",
              "          docLink.innerHTML = docLinkHtml;\n",
              "          element.appendChild(docLink);\n",
              "        }\n",
              "      </script>\n",
              "    </div>\n",
              "  </div>\n",
              "  "
            ],
            "text/plain": [
              "           userName  ... sentiment\n",
              "0     Andrew Thomas  ...         0\n",
              "1      Craig Haines  ...         0\n",
              "2     steven adkins  ...         0\n",
              "3  Lars Panzerbjørn  ...         0\n",
              "4     Scott Prewitt  ...         0\n",
              "\n",
              "[5 rows x 12 columns]"
            ]
          },
          "metadata": {},
          "execution_count": 14
        }
      ]
    },
    {
      "cell_type": "code",
      "source": [
        "df['clean_content'] = hero.clean(df['content'])"
      ],
      "metadata": {
        "id": "1Tm1-pg9HJ8d"
      },
      "execution_count": 15,
      "outputs": []
    },
    {
      "cell_type": "code",
      "source": [
        "df[['content','clean_content','sentiment']].head()"
      ],
      "metadata": {
        "colab": {
          "base_uri": "https://localhost:8080/",
          "height": 206
        },
        "id": "BnKuw4tGHpjQ",
        "outputId": "e3eb1d9d-65c8-4a8b-dd0f-c146d21dcc35"
      },
      "execution_count": 17,
      "outputs": [
        {
          "output_type": "execute_result",
          "data": {
            "text/html": [
              "\n",
              "  <div id=\"df-4d4fdb24-da18-43d1-846a-eeba302615f0\">\n",
              "    <div class=\"colab-df-container\">\n",
              "      <div>\n",
              "<style scoped>\n",
              "    .dataframe tbody tr th:only-of-type {\n",
              "        vertical-align: middle;\n",
              "    }\n",
              "\n",
              "    .dataframe tbody tr th {\n",
              "        vertical-align: top;\n",
              "    }\n",
              "\n",
              "    .dataframe thead th {\n",
              "        text-align: right;\n",
              "    }\n",
              "</style>\n",
              "<table border=\"1\" class=\"dataframe\">\n",
              "  <thead>\n",
              "    <tr style=\"text-align: right;\">\n",
              "      <th></th>\n",
              "      <th>content</th>\n",
              "      <th>clean_content</th>\n",
              "      <th>sentiment</th>\n",
              "    </tr>\n",
              "  </thead>\n",
              "  <tbody>\n",
              "    <tr>\n",
              "      <th>0</th>\n",
              "      <td>Update: After getting a response from the deve...</td>\n",
              "      <td>update getting response developer would change...</td>\n",
              "      <td>0</td>\n",
              "    </tr>\n",
              "    <tr>\n",
              "      <th>1</th>\n",
              "      <td>Used it for a fair amount of time without any ...</td>\n",
              "      <td>used fair amount time without problems suddenl...</td>\n",
              "      <td>0</td>\n",
              "    </tr>\n",
              "    <tr>\n",
              "      <th>2</th>\n",
              "      <td>Your app sucks now!!!!! Used to be good but no...</td>\n",
              "      <td>app sucks used good update physically open clo...</td>\n",
              "      <td>0</td>\n",
              "    </tr>\n",
              "    <tr>\n",
              "      <th>3</th>\n",
              "      <td>It seems OK, but very basic. Recurring tasks n...</td>\n",
              "      <td>seems ok basic recurring tasks need work actua...</td>\n",
              "      <td>0</td>\n",
              "    </tr>\n",
              "    <tr>\n",
              "      <th>4</th>\n",
              "      <td>Absolutely worthless. This app runs a prohibit...</td>\n",
              "      <td>absolutely worthless app runs prohibitively cl...</td>\n",
              "      <td>0</td>\n",
              "    </tr>\n",
              "  </tbody>\n",
              "</table>\n",
              "</div>\n",
              "      <button class=\"colab-df-convert\" onclick=\"convertToInteractive('df-4d4fdb24-da18-43d1-846a-eeba302615f0')\"\n",
              "              title=\"Convert this dataframe to an interactive table.\"\n",
              "              style=\"display:none;\">\n",
              "        \n",
              "  <svg xmlns=\"http://www.w3.org/2000/svg\" height=\"24px\"viewBox=\"0 0 24 24\"\n",
              "       width=\"24px\">\n",
              "    <path d=\"M0 0h24v24H0V0z\" fill=\"none\"/>\n",
              "    <path d=\"M18.56 5.44l.94 2.06.94-2.06 2.06-.94-2.06-.94-.94-2.06-.94 2.06-2.06.94zm-11 1L8.5 8.5l.94-2.06 2.06-.94-2.06-.94L8.5 2.5l-.94 2.06-2.06.94zm10 10l.94 2.06.94-2.06 2.06-.94-2.06-.94-.94-2.06-.94 2.06-2.06.94z\"/><path d=\"M17.41 7.96l-1.37-1.37c-.4-.4-.92-.59-1.43-.59-.52 0-1.04.2-1.43.59L10.3 9.45l-7.72 7.72c-.78.78-.78 2.05 0 2.83L4 21.41c.39.39.9.59 1.41.59.51 0 1.02-.2 1.41-.59l7.78-7.78 2.81-2.81c.8-.78.8-2.07 0-2.86zM5.41 20L4 18.59l7.72-7.72 1.47 1.35L5.41 20z\"/>\n",
              "  </svg>\n",
              "      </button>\n",
              "      \n",
              "  <style>\n",
              "    .colab-df-container {\n",
              "      display:flex;\n",
              "      flex-wrap:wrap;\n",
              "      gap: 12px;\n",
              "    }\n",
              "\n",
              "    .colab-df-convert {\n",
              "      background-color: #E8F0FE;\n",
              "      border: none;\n",
              "      border-radius: 50%;\n",
              "      cursor: pointer;\n",
              "      display: none;\n",
              "      fill: #1967D2;\n",
              "      height: 32px;\n",
              "      padding: 0 0 0 0;\n",
              "      width: 32px;\n",
              "    }\n",
              "\n",
              "    .colab-df-convert:hover {\n",
              "      background-color: #E2EBFA;\n",
              "      box-shadow: 0px 1px 2px rgba(60, 64, 67, 0.3), 0px 1px 3px 1px rgba(60, 64, 67, 0.15);\n",
              "      fill: #174EA6;\n",
              "    }\n",
              "\n",
              "    [theme=dark] .colab-df-convert {\n",
              "      background-color: #3B4455;\n",
              "      fill: #D2E3FC;\n",
              "    }\n",
              "\n",
              "    [theme=dark] .colab-df-convert:hover {\n",
              "      background-color: #434B5C;\n",
              "      box-shadow: 0px 1px 3px 1px rgba(0, 0, 0, 0.15);\n",
              "      filter: drop-shadow(0px 1px 2px rgba(0, 0, 0, 0.3));\n",
              "      fill: #FFFFFF;\n",
              "    }\n",
              "  </style>\n",
              "\n",
              "      <script>\n",
              "        const buttonEl =\n",
              "          document.querySelector('#df-4d4fdb24-da18-43d1-846a-eeba302615f0 button.colab-df-convert');\n",
              "        buttonEl.style.display =\n",
              "          google.colab.kernel.accessAllowed ? 'block' : 'none';\n",
              "\n",
              "        async function convertToInteractive(key) {\n",
              "          const element = document.querySelector('#df-4d4fdb24-da18-43d1-846a-eeba302615f0');\n",
              "          const dataTable =\n",
              "            await google.colab.kernel.invokeFunction('convertToInteractive',\n",
              "                                                     [key], {});\n",
              "          if (!dataTable) return;\n",
              "\n",
              "          const docLinkHtml = 'Like what you see? Visit the ' +\n",
              "            '<a target=\"_blank\" href=https://colab.research.google.com/notebooks/data_table.ipynb>data table notebook</a>'\n",
              "            + ' to learn more about interactive tables.';\n",
              "          element.innerHTML = '';\n",
              "          dataTable['output_type'] = 'display_data';\n",
              "          await google.colab.output.renderOutput(dataTable, element);\n",
              "          const docLink = document.createElement('div');\n",
              "          docLink.innerHTML = docLinkHtml;\n",
              "          element.appendChild(docLink);\n",
              "        }\n",
              "      </script>\n",
              "    </div>\n",
              "  </div>\n",
              "  "
            ],
            "text/plain": [
              "                                             content  ... sentiment\n",
              "0  Update: After getting a response from the deve...  ...         0\n",
              "1  Used it for a fair amount of time without any ...  ...         0\n",
              "2  Your app sucks now!!!!! Used to be good but no...  ...         0\n",
              "3  It seems OK, but very basic. Recurring tasks n...  ...         0\n",
              "4  Absolutely worthless. This app runs a prohibit...  ...         0\n",
              "\n",
              "[5 rows x 3 columns]"
            ]
          },
          "metadata": {},
          "execution_count": 17
        }
      ]
    },
    {
      "cell_type": "code",
      "source": [
        "print(df.shape)\n",
        "df = df[['clean_content','sentiment']]\n",
        "print(df.shape)"
      ],
      "metadata": {
        "colab": {
          "base_uri": "https://localhost:8080/"
        },
        "id": "acWozgJGHxSN",
        "outputId": "705bb2d4-5185-48e6-903c-cc77a702f17f"
      },
      "execution_count": 18,
      "outputs": [
        {
          "output_type": "stream",
          "name": "stdout",
          "text": [
            "(15746, 13)\n",
            "(15746, 2)\n"
          ]
        }
      ]
    },
    {
      "cell_type": "code",
      "source": [
        "df.sentiment.value_counts()"
      ],
      "metadata": {
        "colab": {
          "base_uri": "https://localhost:8080/"
        },
        "id": "n16cfOAiJSEc",
        "outputId": "c527fe2c-6471-4ba6-8e85-66d361f2556b"
      },
      "execution_count": 27,
      "outputs": [
        {
          "output_type": "execute_result",
          "data": {
            "text/plain": [
              "1    10718\n",
              "0     5028\n",
              "Name: sentiment, dtype: int64"
            ]
          },
          "metadata": {},
          "execution_count": 27
        }
      ]
    },
    {
      "cell_type": "code",
      "source": [
        " label_dict = df.sentiment.value_counts(normalize=True).to_dict()\n",
        " label_dict"
      ],
      "metadata": {
        "colab": {
          "base_uri": "https://localhost:8080/"
        },
        "id": "y4uW1yc2ITMS",
        "outputId": "d500a8bc-1c98-4527-afe0-a5f02a02bb09"
      },
      "execution_count": 37,
      "outputs": [
        {
          "output_type": "execute_result",
          "data": {
            "text/plain": [
              "{0: 0.3193191921757907, 1: 0.6806808078242094}"
            ]
          },
          "metadata": {},
          "execution_count": 37
        }
      ]
    },
    {
      "cell_type": "code",
      "source": [
        "for key,val in label_dict.items():\n",
        "            new_val = int(np.round(val,1)* 1000)\n",
        "            label_dict[key] = new_val"
      ],
      "metadata": {
        "id": "M5PsJ08FIlHw"
      },
      "execution_count": 38,
      "outputs": []
    },
    {
      "cell_type": "code",
      "source": [
        "label_dict"
      ],
      "metadata": {
        "colab": {
          "base_uri": "https://localhost:8080/"
        },
        "id": "YgJnFLHCIuNs",
        "outputId": "53c36e93-8048-497f-a4a1-fbe62efd377d"
      },
      "execution_count": 39,
      "outputs": [
        {
          "output_type": "execute_result",
          "data": {
            "text/plain": [
              "{0: 300, 1: 700}"
            ]
          },
          "metadata": {},
          "execution_count": 39
        }
      ]
    },
    {
      "cell_type": "code",
      "source": [
        "class Wcbtfidf:\n",
        "    \n",
        "    def __init__(self,max_features):\n",
        "        self.max_features = max_features\n",
        "        self.combine_vocab = []\n",
        "        self.final_tfidf = None\n",
        "    \n",
        "    def fit(self,X,y):\n",
        "        \n",
        "        label_dict = y.value_counts(normalize=True).to_dict()\n",
        "        for key,val in label_dict.items():\n",
        "            new_val = int(np.round(val,1)*self.max_features)\n",
        "            label_dict[key] = new_val\n",
        "        \n",
        "        self.combine_vocab = self.return_total_vocab(X,y,label_dict)\n",
        "        self.final_tfidf = TfidfVectorizer(vocabulary=self.combine_vocab,stop_words='english')\n",
        "        self.final_tfidf.fit(X)\n",
        "    \n",
        "    def transform(self,X):\n",
        "        transformed_data = self.final_tfidf.transform(X)\n",
        "        transformed_data = pd.DataFrame(transformed_data.toarray(),columns=self.combine_vocab)\n",
        "        return transformed_data\n",
        "    \n",
        "    def return_total_vocab(self,X,y,label_dict):\n",
        "\n",
        "        exclude = [\"i\", \"me\", \"my\", \"myself\", \"we\", \"our\", \"ours\", \"ourselves\", \n",
        "                 \"you\", \"your\", \"yours\", \"yourself\", \"yourselves\", \"he\", \"him\", \n",
        "                 \"his\", \"himself\", \"she\", \"her\", \"hers\", \"herself\", \"it\", \"its\", \n",
        "                 \"itself\", \"they\", \"them\", \"their\", \"theirs\", \"themselves\", \"what\", \n",
        "                 \"which\", \"who\", \"whom\", \"this\", \"that\", \"these\", \"those\", \"am\", \"is\", \n",
        "                 \"are\", \"was\", \"were\", \"be\", \"been\", \"being\", \"have\", \"has\", \"had\", \"having\", \n",
        "                 \"do\", \"does\", \"did\", \"doing\", \"a\", \"an\", \"the\", \"and\", \"but\", \"if\", \"or\", \"because\", \n",
        "                 \"as\", \"until\", \"while\", \"of\", \"at\", \"by\", \"for\", \"with\", \"about\", \"against\", \"between\", \n",
        "                 \"into\", \"through\", \"during\", \"before\", \"after\", \"above\", \"below\", \"to\", \"from\", \"up\", \"down\", \n",
        "                 \"in\", \"out\", \"on\", \"off\", \"over\", \"under\", \"again\", \"further\", \"then\", \"once\", \"here\", \"there\", \n",
        "                 \"when\", \"where\", \"why\", \"how\", \"all\", \"any\", \"both\", \"each\", \"few\", \"more\", \"most\", \"other\", \"some\", \n",
        "                 \"such\", \"no\", \"nor\", \"not\", \"only\", \"own\", \"same\", \"so\", \"than\", \"too\", \"very\", \"s\", \"t\", \"can\", \"will\", \n",
        "                 \"just\", \"don\", \"should\", \"now\"]\n",
        "\n",
        "        total_vocab = []\n",
        "        ## will return keywords from respecvtive classes which can be fed as vocabulary to tfidf\n",
        "        for key,val in label_dict.items():\n",
        "            slice_data = X[y==key]\n",
        "            tfidf = TfidfVectorizer(max_features=val,stop_words=exclude)\n",
        "            tfidf.fit(slice_data)\n",
        "            vocab = tfidf.vocabulary_\n",
        "            total_vocab.extend(vocab)\n",
        "            exclude.extend(vocab)\n",
        "            #print(exclude)\n",
        "        \n",
        "        return total_vocab"
      ],
      "metadata": {
        "id": "MT1w2vF4JwEI"
      },
      "execution_count": 59,
      "outputs": []
    },
    {
      "cell_type": "code",
      "source": [
        "xtrain,xtest,ytrain,ytest = train_test_split(df['clean_content'],df['sentiment'],test_size=0.25,random_state=60)\n",
        "\n",
        "print(xtrain.shape,ytrain.shape)\n",
        "print(xtest.shape,ytest.shape)"
      ],
      "metadata": {
        "colab": {
          "base_uri": "https://localhost:8080/"
        },
        "id": "E3yUHxCFL24j",
        "outputId": "dd1e60ad-00e2-41b0-f6b3-91f085b071b6"
      },
      "execution_count": 54,
      "outputs": [
        {
          "output_type": "stream",
          "name": "stdout",
          "text": [
            "(11809,) (11809,)\n",
            "(3937,) (3937,)\n"
          ]
        }
      ]
    },
    {
      "cell_type": "code",
      "source": [
        "def check_hypothesis(xtrain,xtest,ytrain,ytest,max_feat,model):\n",
        "    \n",
        "    print('Running base version')\n",
        "    tfidf = TfidfVectorizer(max_features=max_feat,stop_words='english')\n",
        "    train_df = pd.DataFrame(tfidf.fit_transform(xtrain).toarray(),columns=tfidf.vocabulary_)\n",
        "    test_df = pd.DataFrame(tfidf.transform(xtest).toarray(),columns=tfidf.vocabulary_)\n",
        "    \n",
        "    \n",
        "    model.fit(train_df,ytrain)\n",
        "    preds = model.predict(test_df)\n",
        "    print(f'Precision is {precision_score(ytest,preds)}')\n",
        "    print(f'Recall is {recall_score(ytest,preds)}')\n",
        "    print(f'ROC curve is {roc_auc_score(ytest,preds)}')\n",
        "    print(classification_report(ytest,preds))\n",
        "    \n",
        "    print('Running my version')\n",
        "    wcbtfidf = Wcbtfidf(max_features=max_feat)\n",
        "    wcbtfidf.fit(xtrain,ytrain)    \n",
        "    train_df = wcbtfidf.transform(xtrain)\n",
        "    test_df = wcbtfidf.transform(xtest)\n",
        "    \n",
        "    model.fit(train_df,ytrain)\n",
        "    preds = model.predict(test_df)\n",
        "    print(f'Precision is {precision_score(ytest,preds)}')\n",
        "    print(f'Recall is {recall_score(ytest,preds)}')\n",
        "    print(f'ROC curve is {roc_auc_score(ytest,preds)}')\n",
        "    print(classification_report(ytest,preds))"
      ],
      "metadata": {
        "id": "SRO0W9SyL7-g"
      },
      "execution_count": 55,
      "outputs": []
    },
    {
      "cell_type": "code",
      "source": [
        "model = LogisticRegression()\n",
        "check_hypothesis(xtrain,xtest,ytrain,ytest,400,model)"
      ],
      "metadata": {
        "colab": {
          "base_uri": "https://localhost:8080/"
        },
        "id": "MS0t_hU3N5ac",
        "outputId": "ab131849-33e9-4282-90bf-a3373960958a"
      },
      "execution_count": 60,
      "outputs": [
        {
          "output_type": "stream",
          "name": "stdout",
          "text": [
            "Running base version\n",
            "Precision is 0.7861656135683406\n",
            "Recall is 0.8814317673378076\n",
            "ROC curve is 0.684540584864123\n",
            "              precision    recall  f1-score   support\n",
            "\n",
            "           0       0.66      0.49      0.56      1255\n",
            "           1       0.79      0.88      0.83      2682\n",
            "\n",
            "    accuracy                           0.76      3937\n",
            "   macro avg       0.72      0.68      0.70      3937\n",
            "weighted avg       0.75      0.76      0.74      3937\n",
            "\n",
            "Running my version\n",
            "Precision is 0.7938420348058902\n",
            "Recall is 0.8844146159582401\n",
            "ROC curve is 0.6967889812858931\n",
            "              precision    recall  f1-score   support\n",
            "\n",
            "           0       0.67      0.51      0.58      1255\n",
            "           1       0.79      0.88      0.84      2682\n",
            "\n",
            "    accuracy                           0.76      3937\n",
            "   macro avg       0.73      0.70      0.71      3937\n",
            "weighted avg       0.76      0.76      0.75      3937\n",
            "\n"
          ]
        }
      ]
    },
    {
      "cell_type": "code",
      "source": [
        ""
      ],
      "metadata": {
        "id": "LYe3Ubt7OasO"
      },
      "execution_count": null,
      "outputs": []
    }
  ]
}